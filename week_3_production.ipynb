from  fileprocessing import getAirport_freq
import tkinter as tk
from tkinter import *

import tkinter.messagebox


class LoadFiles:
    def __init__(self, master):
        self.master = master
        self.master.geometry("400x500")
        self.master.title("Load Files")
        
        self.canvas = tk.Canvas(self.master,height = 500 , width = 400 , bg='#52527a')
        self.canvas.pack()
        
        self.canvas.create_text(200, 70, text = 'Welcome to Airports Data Analysis', font = ('Helvetica', 10, 'bold'), justify = 'center', fill='white')
        self.canvas.update
        
        self.topbarrightframe = tk.Frame(self.canvas,highlightbackground="gray", highlightcolor="gray", highlightthickness=1, bd= 0 , bg='#3d3d5c')
        self.topbarrightframe.place(relx=0.5,rely=0.25, relwidth=0.6,relheight=0.3, anchor='n')
        
        label2 = Label(self.topbarrightframe , text ="Select file from the dropdownbelow :" ,bg ='#3d3d5c' , fg ='#ffffff')
        label2.grid(row=0, sticky=E)
        
        var1=StringVar()
        airportFrq = Radiobutton(self.topbarrightframe , text="Airport Frequencies" , variable=var1 , bg ='#3d3d5c' , fg ='#ffffff' , selectcolor="black" ).grid(row=1, sticky=W)
        
        var2=StringVar()
        airports = Radiobutton(self.topbarrightframe , text="Airports" , variable=var2 , bg ='#3d3d5c' , fg ='#ffffff' , selectcolor="black").grid(row=2,sticky=W)
        
        
        var3=StringVar()
        runways = Radiobutton(self.topbarrightframe , text="Runways" , bg ='#3d3d5c' , variable=var3 , fg ='#ffffff' , selectcolor="black").grid(row=3,sticky=W)
        
        self.bottommidframe = tk.Frame(self.canvas,highlightbackground="gray", highlightcolor="gray", highlightthickness=1, bd= 0,bg='#3d3d5c')
        self.bottommidframe.place(relx=0.5,rely=0.8, relwidth=0.6,relheight=0.175, anchor='s')
        
        self.loadbutton=tk.Button(self.bottommidframe, text ='Load CSV File', width =10 , command =lambda :[getAirport_freq() ,self.onClick_Loadfiles() ])
        self.loadbutton.pack(pady=10 , padx=10, side=tk.LEFT)
        
        self.transformbutton=tk.Button(self.bottommidframe,text ='Transform Files' , width=11 , command = self.onClick_Transformfiles)
        self.transformbutton.pack(pady=10 , padx=10, side=tk.RIGHT)
        
        self.bottomsmallframe = tk.Frame(self.canvas,highlightbackground="gray", highlightcolor="gray", highlightthickness=1, bd= 0,bg='#3d3d5c')
        self.bottomsmallframe.place(relx=0.5,rely=0.97, relwidth=0.6,relheight=0.12, anchor='s')
        
        self.viewButton = tk.Button(self.bottomsmallframe, text = 'View Data', width = 10, command =self.new_window  )
        self.viewButton.pack(pady=10 , side=tk.BOTTOM)
        
    def onClick_Loadfiles(self):
        tkinter.messagebox.showinfo("Loading files","Files Successfully Loaded")
        
    def onClick_Transformfiles(self):
        tkinter.messagebox.showinfo("Transforming Files","Files Successfully Transformed to JSON Format and saved to database")
    
    def new_window(self):
        self.newWindow = tk.Toplevel(self.master)
        self.app = ViewData(self.newWindow)
        
    def close_this_window(self):
        self.master.destroy()

class ViewData:
    def __init__(self, master):
        self.master = master
        self.master.geometry("1200x700")
        self.canvas = tk.Canvas(self.master,height = 700 , width = 1200 , bg='#52527a')
        self.canvas.pack()
        
        self.canvas.create_text(200, 70, text = 'Welcome to Airports Data Analysis', font = ('Helvetica', 15, 'bold'), justify = 'center', fill='white')
        self.canvas.update
        
        self.topbarrightframe = tk.Frame(self.canvas,highlightbackground="gray", highlightcolor="gray", highlightthickness=1, bd= 0 , bg='#3d3d5c')
        self.topbarrightframe.place(relx=0.35,rely=0.2, relwidth=0.5,relheight=0.15, anchor='n')

        label5 = Label(self.topbarrightframe , text ="Files CSV" ,font=("Helvetica", 10,'bold'), bg ='#3d3d5c' , fg ='#ffffff')
        label5.pack()
        
        self.righttopframe = tk.Frame(self.canvas,highlightbackground="gray", highlightcolor="gray", highlightthickness=1, bd= 0 ,bg='#3d3d5c')
        self.righttopframe.place(relx=0.75,rely=0.1, relwidth=0.2,relheight=0.3, anchor='nw')

        label2 = Label(self.righttopframe , text ="right top frame")
        label2.pack()
        
        self.rightbotframe = tk.Frame(self.canvas,highlightbackground="gray", highlightcolor="gray", highlightthickness=1, bd= 0,bg='#3d3d5c')
        self.rightbotframe.place(relx=0.75,rely=0.5, relwidth=0.2,relheight=0.4, anchor='nw')

        label1 = Label(self.rightbotframe , text ="right bottom frame")
        label1.pack()
        
        self.bottombigframe = tk.Frame(self.canvas,highlightbackground="gray", highlightcolor="gray", highlightthickness=1, bd= 0,bg='#3d3d5c')
        self.bottombigframe.place(relx=0.6,rely=0.9, relwidth=0.5,relheight=0.5, anchor='se')

        label4 = Label(self.bottombigframe , text ="bottom big frame")
        label4.pack()

    def close_windows(self):
        self.master.destroy()

def main(): 
    root = tk.Tk()
    app = LoadFiles(root)
    root.mainloop()

if __name__ == '__main__':
    main()
