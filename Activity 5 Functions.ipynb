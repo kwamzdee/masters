{
 "cells": [
  {
   "cell_type": "code",
   "execution_count": 88,
   "id": "c2817bed",
   "metadata": {},
   "outputs": [
    {
     "name": "stdout",
     "output_type": "stream",
     "text": [
      "Input a string: dina\n",
      "A:*\n",
      "E:\n",
      "I:*\n",
      "O:\n",
      "U:\n",
      "Other (non-space) Characters: 2\n"
     ]
    }
   ],
   "source": [
    "def printStars(char, val):\n",
    "  print(f\"{char}:\", end =\"\")\n",
    "  \n",
    "  for i in range(0,val):\n",
    "    print(\"*\", end=\"\")\n",
    "  print()\n",
    "  \n",
    "\n",
    "userString = input(\"Input a string: \")\n",
    "userStringLC = userString.lower()\n",
    "\n",
    "numA = userString.count('a')\n",
    "numE = userString.count('e')\n",
    "numI = userString.count('i')\n",
    "numO = userString.count('o')\n",
    "numU = userString.count('u')\n",
    "numSpace = userString.count(' ')\n",
    "lenString = len(userString)\n",
    "\n",
    "vowels = numA + numE + numI + numO + numU\n",
    "\n",
    "numOther = lenString - vowels - numSpace\n",
    "\n",
    "printStars('A', numA)\n",
    "printStars('E', numE)\n",
    "printStars('I', numI)\n",
    "printStars('O', numO)\n",
    "printStars('U', numU)\n",
    "\n",
    "print(\"Other (non-space) Characters:\", numOther)\n",
    "            "
   ]
  },
  {
   "cell_type": "code",
   "execution_count": null,
   "id": "5a72b9c8",
   "metadata": {},
   "outputs": [],
   "source": []
  },
  {
   "cell_type": "code",
   "execution_count": null,
   "id": "8aecd0e2",
   "metadata": {},
   "outputs": [],
   "source": []
  }
 ],
 "metadata": {
  "kernelspec": {
   "display_name": "Python 3 (ipykernel)",
   "language": "python",
   "name": "python3"
  },
  "language_info": {
   "codemirror_mode": {
    "name": "ipython",
    "version": 3
   },
   "file_extension": ".py",
   "mimetype": "text/x-python",
   "name": "python",
   "nbconvert_exporter": "python",
   "pygments_lexer": "ipython3",
   "version": "3.9.7"
  }
 },
 "nbformat": 4,
 "nbformat_minor": 5
}
